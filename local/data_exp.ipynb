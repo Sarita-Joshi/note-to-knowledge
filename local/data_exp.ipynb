{
 "cells": [
  {
   "cell_type": "code",
   "execution_count": 2,
   "id": "08faab93",
   "metadata": {},
   "outputs": [
    {
     "name": "stdout",
     "output_type": "stream",
     "text": [
      "Collecting neo4j\n",
      "  Obtaining dependency information for neo4j from https://files.pythonhosted.org/packages/6a/57/94225fe5e9dabdc0ff60c88cbfcedf11277f4b34e7ab1373d3e62dbdd207/neo4j-5.28.1-py3-none-any.whl.metadata\n",
      "  Downloading neo4j-5.28.1-py3-none-any.whl.metadata (5.9 kB)\n",
      "Collecting pytz (from neo4j)\n",
      "  Obtaining dependency information for pytz from https://files.pythonhosted.org/packages/81/c4/34e93fe5f5429d7570ec1fa436f1986fb1f00c3e0f43a589fe2bbcd22c3f/pytz-2025.2-py2.py3-none-any.whl.metadata\n",
      "  Using cached pytz-2025.2-py2.py3-none-any.whl.metadata (22 kB)\n",
      "Downloading neo4j-5.28.1-py3-none-any.whl (312 kB)\n",
      "   ---------------------------------------- 0.0/312.3 kB ? eta -:--:--\n",
      "   ---------------------------------------- 0.0/312.3 kB ? eta -:--:--\n",
      "   - -------------------------------------- 10.2/312.3 kB ? eta -:--:--\n",
      "   ------- ------------------------------- 61.4/312.3 kB 656.4 kB/s eta 0:00:01\n",
      "   ------------------------ --------------- 194.6/312.3 kB 1.5 MB/s eta 0:00:01\n",
      "   ---------------------------------------- 312.3/312.3 kB 1.9 MB/s eta 0:00:00\n",
      "Using cached pytz-2025.2-py2.py3-none-any.whl (509 kB)\n",
      "Installing collected packages: pytz, neo4j\n",
      "Successfully installed neo4j-5.28.1 pytz-2025.2\n",
      "Note: you may need to restart the kernel to use updated packages.\n"
     ]
    },
    {
     "name": "stderr",
     "output_type": "stream",
     "text": [
      "\n",
      "[notice] A new release of pip is available: 23.2.1 -> 25.1.1\n",
      "[notice] To update, run: python.exe -m pip install --upgrade pip\n"
     ]
    }
   ],
   "source": [
    "pip install neo4j"
   ]
  },
  {
   "cell_type": "code",
   "execution_count": null,
   "id": "6259e38e",
   "metadata": {},
   "outputs": [
    {
     "name": "stdout",
     "output_type": "stream",
     "text": [
      "✅ Triplets inserted into Neo4j.\n"
     ]
    }
   ],
   "source": [
    "from neo4j import GraphDatabase\n",
    "from dotenv import load_dotenv\n",
    "import os\n",
    "\n",
    "load_dotenv()\n",
    "\n",
    "URI = \"neo4j+s://eb762c57.databases.neo4j.io\"\n",
    "USERNAME = 'neo4j'\n",
    "PASSWORD = 'hd6G2IBBAFaTuEgpBUNlBDZk09GF853VLfjw3kIppHg'\n",
    "\n",
    "driver = GraphDatabase.driver(URI, auth=(USERNAME, PASSWORD))\n"
   ]
  },
  {
   "cell_type": "code",
   "execution_count": null,
   "id": "6304cec9",
   "metadata": {},
   "outputs": [],
   "source": [
    "def insert_triplet(tx, subject, predicate, obj):\n",
    "    tx.run(\"\"\"\n",
    "        MERGE (a:Concept {name: $subject})\n",
    "        MERGE (b:Concept {name: $object})\n",
    "        MERGE (a)-[r:RELATION {type: $predicate}]->(b)\n",
    "    \"\"\", subject=subject, predicate=predicate, object=obj)\n",
    "\n",
    "def insert_all(triplets):\n",
    "    with driver.session() as session:\n",
    "        for triplet in triplets:\n",
    "            session.execute_write(insert_triplet, triplet['subject'], triplet['predicate'], triplet['object'])\n",
    "    print(\"✅ Triplets inserted into Neo4j.\")\n"
   ]
  },
  {
   "cell_type": "code",
   "execution_count": null,
   "id": "d5a2e197",
   "metadata": {},
   "outputs": [],
   "source": [
    "triplets = [\n",
    "    {'subject': 'LangChain', 'predicate': 'connects', 'object': 'LLMs'},\n",
    "    {'subject': 'LLMs', 'predicate': 'use', 'object': 'Neo4j'}\n",
    "]\n",
    "insert_all(triplets)\n"
   ]
  }
 ],
 "metadata": {
  "kernelspec": {
   "display_name": "venv",
   "language": "python",
   "name": "python3"
  },
  "language_info": {
   "codemirror_mode": {
    "name": "ipython",
    "version": 3
   },
   "file_extension": ".py",
   "mimetype": "text/x-python",
   "name": "python",
   "nbconvert_exporter": "python",
   "pygments_lexer": "ipython3",
   "version": "3.11.5"
  }
 },
 "nbformat": 4,
 "nbformat_minor": 5
}
