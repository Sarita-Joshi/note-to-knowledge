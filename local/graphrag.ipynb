{
 "cells": [
  {
   "cell_type": "code",
   "execution_count": 29,
   "id": "945ca213",
   "metadata": {},
   "outputs": [],
   "source": [
    "# pip install llama-index graspologic numpy==1.24.4 scipy==1.12.0"
   ]
  },
  {
   "cell_type": "code",
   "execution_count": 30,
   "id": "a14d29b9",
   "metadata": {},
   "outputs": [],
   "source": [
    "from llama_index.core import Document\n",
    "\n",
    "text= \"\"\"\n",
    "The History and Impact of Quantum Mechanics\n",
    "\n",
    "Quantum mechanics is a fundamental theory in physics that describes nature at the smallest scales, such as atoms and subatomic particles. It was developed in the early 20th century, revolutionizing our understanding of the physical world.\n",
    "\n",
    "The origins of quantum mechanics trace back to Max Planck’s work in 1900, where he introduced the idea of quantized energy levels to explain blackbody radiation. This concept was further developed by Albert Einstein in 1905 when he explained the photoelectric effect by proposing that light consists of discrete packets of energy called photons. Einstein’s work earned him the Nobel Prize in Physics in 1921.\n",
    "\n",
    "Building on these ideas, Niels Bohr proposed the Bohr model of the atom in 1913, which described electrons orbiting the nucleus in fixed energy levels. This model successfully explained the spectral lines of hydrogen but had limitations with more complex atoms.\n",
    "\n",
    "In the 1920s, Werner Heisenberg formulated matrix mechanics, and Erwin Schrödinger developed wave mechanics, two equivalent formulations of quantum mechanics. Schrödinger’s wave equation describes how the quantum state of a physical system changes over time.\n",
    "\n",
    "Werner Heisenberg is also famous for the uncertainty principle, which states that certain pairs of physical properties, like position and momentum, cannot be simultaneously known to arbitrary precision.\n",
    "\n",
    "Quantum mechanics has had profound implications beyond physics. It laid the foundation for quantum chemistry, explaining chemical bonding and reactions. It also enabled the development of semiconductors, which are the basis for modern electronics, including computers and smartphones.\n",
    "\n",
    "Richard Feynman, a prominent physicist of the 20th century, contributed significantly to quantum electrodynamics (QED), a quantum theory of the interaction between light and matter. Feynman introduced Feynman diagrams, a pictorial representation of particle interactions.\n",
    "\n",
    "The theory of quantum mechanics also paved the way for emerging fields such as quantum computing and quantum cryptography. Quantum computers use quantum bits, or qubits, which can represent both 0 and 1 simultaneously, promising exponential speedups for certain computational problems.\n",
    "\n",
    "Despite its successes, quantum mechanics challenges our classical intuitions about reality. Concepts like superposition and entanglement defy everyday experience but have been experimentally confirmed.\n",
    "\n",
    "The Copenhagen interpretation, primarily developed by Niels Bohr and Werner Heisenberg, is one of the earliest and most widely taught interpretations of quantum mechanics. It emphasizes the probabilistic nature of quantum measurements and the role of the observer.\n",
    "\n",
    "Today, research in quantum mechanics continues to expand, with scientists exploring quantum gravity, quantum field theory, and applications in materials science and information technology.\n",
    "\n",
    "\"\"\""
   ]
  },
  {
   "cell_type": "code",
   "execution_count": 31,
   "id": "eea5d56c",
   "metadata": {},
   "outputs": [],
   "source": [
    "documents = [Document(text=text)]"
   ]
  },
  {
   "cell_type": "code",
   "execution_count": 32,
   "id": "57fa2328",
   "metadata": {},
   "outputs": [],
   "source": [
    "from dotenv import load_dotenv\n",
    "import os\n",
    "# 1. Load environment variables for API keys\n",
    "load_dotenv()\n",
    "GEMINI_API_KEY = os.getenv(\"GOOGLE_API_KEY\")\n",
    "GROQ_API_KEY = os.getenv(\"GROQ_API_KEY\")"
   ]
  },
  {
   "cell_type": "code",
   "execution_count": 33,
   "id": "2e79bb74",
   "metadata": {},
   "outputs": [],
   "source": [
    "# pip install llama-index-llms-groq"
   ]
  },
  {
   "cell_type": "code",
   "execution_count": 34,
   "id": "48fb2e81",
   "metadata": {},
   "outputs": [
    {
     "name": "stderr",
     "output_type": "stream",
     "text": [
      "C:\\Users\\Admin\\AppData\\Local\\Temp\\ipykernel_17724\\2082969730.py:3: DeprecationWarning: Call to deprecated class Gemini. (Should use `llama-index-llms-google-genai` instead, using Google's latest unified SDK. See: https://docs.llamaindex.ai/en/stable/examples/llm/google_genai/)\n",
      "  llm = Gemini(api_key=GEMINI_API_KEY, model=\"gemini-1.5-flash\")  # or \"gemini-pro\", etc.\n"
     ]
    }
   ],
   "source": [
    "from llama_index.llms.gemini import Gemini\n",
    "from llama_index.embeddings.openai import OpenAIEmbedding\n",
    "llm = Gemini(api_key=GEMINI_API_KEY, model=\"gemini-1.5-flash\")  # or \"gemini-pro\", etc.\n",
    "\n",
    "# from llama_index.llms.groq import Groq\n",
    "# llm = Groq(api_key=GROQ_API_KEY, model=\"llama3-70b-8192\")  # or \"llama-3-70b-8192\", etc.\n",
    "\n",
    "# ---- Use OPenai ----\n",
    "# llm = OpenAI(model=\"gpt-4-turbo\")  # You can use \"gpt-3.5-turbo\" for lower cost\n",
    "embed_model = OpenAIEmbedding(model=\"text-embedding-3-small\")\n"
   ]
  },
  {
   "cell_type": "code",
   "execution_count": 35,
   "id": "a35bb519",
   "metadata": {},
   "outputs": [],
   "source": [
    "import asyncio\n",
    "import nest_asyncio\n",
    "\n",
    "nest_asyncio.apply()\n",
    "\n",
    "from typing import Any, List, Callable, Optional, Union, Dict\n",
    "from IPython.display import Markdown, display\n",
    "\n",
    "from llama_index.core.async_utils import run_jobs\n",
    "from llama_index.core.indices.property_graph.utils import (\n",
    "    default_parse_triplets_fn,\n",
    ")\n",
    "from llama_index.core.graph_stores.types import (\n",
    "    EntityNode,\n",
    "    KG_NODES_KEY,\n",
    "    KG_RELATIONS_KEY,\n",
    "    Relation,\n",
    ")\n",
    "from llama_index.core.llms.llm import LLM\n",
    "from llama_index.core.prompts import PromptTemplate\n",
    "from llama_index.core.prompts.default_prompts import (\n",
    "    DEFAULT_KG_TRIPLET_EXTRACT_PROMPT,\n",
    ")\n",
    "from llama_index.core.schema import TransformComponent, BaseNode\n",
    "from llama_index.core.bridge.pydantic import BaseModel, Field\n",
    "\n",
    "\n",
    "class GraphRAGExtractor(TransformComponent):\n",
    "    \"\"\"Extract triples from a graph.\n",
    "\n",
    "    Uses an LLM and a simple prompt + output parsing to extract paths (i.e. triples) and entity, relation descriptions from text.\n",
    "\n",
    "    Args:\n",
    "        llm (LLM):\n",
    "            The language model to use.\n",
    "        extract_prompt (Union[str, PromptTemplate]):\n",
    "            The prompt to use for extracting triples.\n",
    "        parse_fn (callable):\n",
    "            A function to parse the output of the language model.\n",
    "        num_workers (int):\n",
    "            The number of workers to use for parallel processing.\n",
    "        max_paths_per_chunk (int):\n",
    "            The maximum number of paths to extract per chunk.\n",
    "    \"\"\"\n",
    "\n",
    "    llm: LLM\n",
    "    extract_prompt: PromptTemplate\n",
    "    parse_fn: Callable\n",
    "    num_workers: int\n",
    "    max_paths_per_chunk: int\n",
    "\n",
    "    def __init__(\n",
    "        self,\n",
    "        llm: Optional[LLM] = None,\n",
    "        extract_prompt: Optional[Union[str, PromptTemplate]] = None,\n",
    "        parse_fn: Callable = default_parse_triplets_fn,\n",
    "        max_paths_per_chunk: int = 10,\n",
    "        num_workers: int = 4,\n",
    "    ) -> None:\n",
    "        \"\"\"Init params.\"\"\"\n",
    "        from llama_index.core import Settings\n",
    "\n",
    "        if isinstance(extract_prompt, str):\n",
    "            extract_prompt = PromptTemplate(extract_prompt)\n",
    "\n",
    "        super().__init__(\n",
    "            llm=llm or Settings.llm,\n",
    "            extract_prompt=extract_prompt or DEFAULT_KG_TRIPLET_EXTRACT_PROMPT,\n",
    "            parse_fn=parse_fn,\n",
    "            num_workers=num_workers,\n",
    "            max_paths_per_chunk=max_paths_per_chunk,\n",
    "        )\n",
    "\n",
    "    @classmethod\n",
    "    def class_name(cls) -> str:\n",
    "        return \"GraphExtractor\"\n",
    "\n",
    "    def __call__(\n",
    "        self, nodes: List[BaseNode], show_progress: bool = False, **kwargs: Any\n",
    "    ) -> List[BaseNode]:\n",
    "        \"\"\"Extract triples from nodes.\"\"\"\n",
    "        return asyncio.run(\n",
    "            self.acall(nodes, show_progress=show_progress, **kwargs)\n",
    "        )\n",
    "\n",
    "    async def _aextract(self, node: BaseNode) -> BaseNode:\n",
    "        \"\"\"Extract triples from a node.\"\"\"\n",
    "        assert hasattr(node, \"text\")\n",
    "\n",
    "        text = node.get_content(metadata_mode=\"llm\")\n",
    "        try:\n",
    "            llm_response = await self.llm.apredict(\n",
    "                self.extract_prompt,\n",
    "                text=text,\n",
    "                max_knowledge_triplets=self.max_paths_per_chunk,\n",
    "            )\n",
    "            entities, entities_relationship = self.parse_fn(llm_response)\n",
    "        except ValueError:\n",
    "            entities = []\n",
    "            entities_relationship = []\n",
    "\n",
    "        existing_nodes = node.metadata.pop(KG_NODES_KEY, [])\n",
    "        existing_relations = node.metadata.pop(KG_RELATIONS_KEY, [])\n",
    "        entity_metadata = node.metadata.copy()\n",
    "        for entity, entity_type, description in entities:\n",
    "            entity_metadata[\"entity_description\"] = description\n",
    "            entity_node = EntityNode(\n",
    "                name=entity, label=entity_type, properties=entity_metadata\n",
    "            )\n",
    "            existing_nodes.append(entity_node)\n",
    "\n",
    "        relation_metadata = node.metadata.copy()\n",
    "        for triple in entities_relationship:\n",
    "            subj, obj, rel, description = triple\n",
    "            relation_metadata[\"relationship_description\"] = description\n",
    "            rel_node = Relation(\n",
    "                label=rel,\n",
    "                source_id=subj,\n",
    "                target_id=obj,\n",
    "                properties=relation_metadata,\n",
    "            )\n",
    "\n",
    "            existing_relations.append(rel_node)\n",
    "\n",
    "        node.metadata[KG_NODES_KEY] = existing_nodes\n",
    "        node.metadata[KG_RELATIONS_KEY] = existing_relations\n",
    "        return node\n",
    "\n",
    "    async def acall(\n",
    "        self, nodes: List[BaseNode], show_progress: bool = False, **kwargs: Any\n",
    "    ) -> List[BaseNode]:\n",
    "        \"\"\"Extract triples from nodes async.\"\"\"\n",
    "        jobs = []\n",
    "        for node in nodes:\n",
    "            jobs.append(self._aextract(node))\n",
    "\n",
    "        return await run_jobs(\n",
    "            jobs,\n",
    "            workers=self.num_workers,\n",
    "            show_progress=show_progress,\n",
    "            desc=\"Extracting paths from text\",\n",
    "        )"
   ]
  },
  {
   "cell_type": "code",
   "execution_count": 36,
   "id": "d3a1f1d8",
   "metadata": {},
   "outputs": [],
   "source": [
    "# pip install future"
   ]
  },
  {
   "cell_type": "code",
   "execution_count": 37,
   "id": "42be8c41",
   "metadata": {},
   "outputs": [],
   "source": [
    "import re\n",
    "from llama_index.core.graph_stores import SimplePropertyGraphStore\n",
    "import networkx as nx\n",
    "from graspologic.partition import hierarchical_leiden\n",
    "\n",
    "from llama_index.core.llms import ChatMessage\n",
    "\n",
    "\n",
    "class GraphRAGStore(SimplePropertyGraphStore):\n",
    "    community_summary = {}\n",
    "    max_cluster_size = 5\n",
    "\n",
    "    def generate_community_summary(self, text):\n",
    "        \"\"\"Generate summary for a given text using an LLM.\"\"\"\n",
    "        messages = [\n",
    "            ChatMessage(\n",
    "                role=\"system\",\n",
    "                content=(\n",
    "                    \"You are provided with a set of relationships from a knowledge graph, each represented as \"\n",
    "                    \"entity1->entity2->relation->relationship_description. Your task is to create a summary of these \"\n",
    "                    \"relationships. The summary should include the names of the entities involved and a concise synthesis \"\n",
    "                    \"of the relationship descriptions. The goal is to capture the most critical and relevant details that \"\n",
    "                    \"highlight the nature and significance of each relationship. Ensure that the summary is coherent and \"\n",
    "                    \"integrates the information in a way that emphasizes the key aspects of the relationships.\"\n",
    "                ),\n",
    "            ),\n",
    "            ChatMessage(role=\"user\", content=text),\n",
    "        ]\n",
    "        response = Gemini().chat(messages)\n",
    "        clean_response = re.sub(r\"^assistant:\\s*\", \"\", str(response)).strip()\n",
    "        return clean_response\n",
    "\n",
    "    def build_communities(self):\n",
    "        \"\"\"Builds communities from the graph and summarizes them.\"\"\"\n",
    "        nx_graph = self._create_nx_graph()\n",
    "        community_hierarchical_clusters = hierarchical_leiden(\n",
    "            nx_graph, max_cluster_size=self.max_cluster_size\n",
    "        )\n",
    "        community_info = self._collect_community_info(\n",
    "            nx_graph, community_hierarchical_clusters\n",
    "        )\n",
    "        self._summarize_communities(community_info)\n",
    "\n",
    "    def _create_nx_graph(self):\n",
    "        \"\"\"Converts internal graph representation to NetworkX graph.\"\"\"\n",
    "        nx_graph = nx.Graph()\n",
    "        for node in self.graph.nodes.values():\n",
    "            nx_graph.add_node(str(node))\n",
    "        for relation in self.graph.relations.values():\n",
    "            nx_graph.add_edge(\n",
    "                relation.source_id,\n",
    "                relation.target_id,\n",
    "                relationship=relation.label,\n",
    "                description=relation.properties[\"relationship_description\"],\n",
    "            )\n",
    "        return nx_graph\n",
    "\n",
    "    def _collect_community_info(self, nx_graph, clusters):\n",
    "        \"\"\"Collect detailed information for each node based on their community.\"\"\"\n",
    "        community_mapping = {item.node: item.cluster for item in clusters}\n",
    "        community_info = {}\n",
    "        for item in clusters:\n",
    "            cluster_id = item.cluster\n",
    "            node = item.node\n",
    "            if cluster_id not in community_info:\n",
    "                community_info[cluster_id] = []\n",
    "\n",
    "            for neighbor in nx_graph.neighbors(node):\n",
    "                if community_mapping[neighbor] == cluster_id:\n",
    "                    edge_data = nx_graph.get_edge_data(node, neighbor)\n",
    "                    if edge_data:\n",
    "                        detail = f\"{node} -> {neighbor} -> {edge_data['relationship']} -> {edge_data['description']}\"\n",
    "                        community_info[cluster_id].append(detail)\n",
    "        return community_info\n",
    "\n",
    "    def _summarize_communities(self, community_info):\n",
    "        \"\"\"Generate and store summaries for each community.\"\"\"\n",
    "        for community_id, details in community_info.items():\n",
    "            details_text = (\n",
    "                \"\\n\".join(details) + \".\"\n",
    "            )  # Ensure it ends with a period\n",
    "            self.community_summary[\n",
    "                community_id\n",
    "            ] = self.generate_community_summary(details_text)\n",
    "\n",
    "    def get_community_summaries(self):\n",
    "        \"\"\"Returns the community summaries, building them if not already done.\"\"\"\n",
    "        if not self.community_summary:\n",
    "            self.build_communities()\n",
    "        return self.community_summary"
   ]
  },
  {
   "cell_type": "code",
   "execution_count": 38,
   "id": "b92aa9ad",
   "metadata": {},
   "outputs": [],
   "source": [
    "# pip install graspologic"
   ]
  },
  {
   "cell_type": "code",
   "execution_count": 39,
   "id": "bccf8c90",
   "metadata": {},
   "outputs": [],
   "source": [
    "from llama_index.core.query_engine import CustomQueryEngine\n",
    "from llama_index.core.llms import LLM\n",
    "\n",
    "\n",
    "class GraphRAGQueryEngine(CustomQueryEngine):\n",
    "    graph_store: GraphRAGStore\n",
    "    llm: LLM\n",
    "\n",
    "    def custom_query(self, query_str: str) -> str:\n",
    "        \"\"\"Process all community summaries to generate answers to a specific query.\"\"\"\n",
    "        community_summaries = self.graph_store.get_community_summaries()\n",
    "        community_answers = [\n",
    "            self.generate_answer_from_summary(community_summary, query_str)\n",
    "            for _, community_summary in community_summaries.items()\n",
    "        ]\n",
    "\n",
    "        final_answer = self.aggregate_answers(community_answers)\n",
    "        return final_answer\n",
    "\n",
    "    def generate_answer_from_summary(self, community_summary, query):\n",
    "        \"\"\"Generate an answer from a community summary based on a given query using LLM.\"\"\"\n",
    "        prompt = (\n",
    "            f\"Given the community summary: {community_summary}, \"\n",
    "            f\"how would you answer the following query? Query: {query}\"\n",
    "        )\n",
    "        messages = [\n",
    "            ChatMessage(role=\"system\", content=prompt),\n",
    "            ChatMessage(\n",
    "                role=\"user\",\n",
    "                content=\"I need an answer based on the above information.\",\n",
    "            ),\n",
    "        ]\n",
    "        response = self.llm.chat(messages)\n",
    "        cleaned_response = re.sub(r\"^assistant:\\s*\", \"\", str(response)).strip()\n",
    "        return cleaned_response\n",
    "\n",
    "    def aggregate_answers(self, community_answers):\n",
    "        \"\"\"Aggregate individual community answers into a final, coherent response.\"\"\"\n",
    "        # intermediate_text = \" \".join(community_answers)\n",
    "        prompt = \"Combine the following intermediate answers into a final, concise response.\"\n",
    "        messages = [\n",
    "            ChatMessage(role=\"system\", content=prompt),\n",
    "            ChatMessage(\n",
    "                role=\"user\",\n",
    "                content=f\"Intermediate answers: {community_answers}\",\n",
    "            ),\n",
    "        ]\n",
    "        final_response = self.llm.chat(messages)\n",
    "        cleaned_final_response = re.sub(\n",
    "            r\"^assistant:\\s*\", \"\", str(final_response)\n",
    "        ).strip()\n",
    "        return cleaned_final_response"
   ]
  },
  {
   "cell_type": "code",
   "execution_count": 40,
   "id": "054d8051",
   "metadata": {},
   "outputs": [],
   "source": [
    "from llama_index.core.node_parser import SentenceSplitter\n",
    "\n",
    "splitter = SentenceSplitter(\n",
    "    chunk_size=1024,\n",
    "    chunk_overlap=20,\n",
    ")\n",
    "nodes = splitter.get_nodes_from_documents(documents)"
   ]
  },
  {
   "cell_type": "code",
   "execution_count": 41,
   "id": "84caed8e",
   "metadata": {},
   "outputs": [
    {
     "data": {
      "text/plain": [
       "1"
      ]
     },
     "execution_count": 41,
     "metadata": {},
     "output_type": "execute_result"
    }
   ],
   "source": [
    "len(nodes)"
   ]
  },
  {
   "cell_type": "code",
   "execution_count": 42,
   "id": "289a870d",
   "metadata": {},
   "outputs": [],
   "source": [
    "KG_TRIPLET_EXTRACT_TMPL = \"\"\"\n",
    "-Goal-\n",
    "Given a text document, identify all entities and their entity types from the text and all relationships among the identified entities.\n",
    "Given the text, extract up to {max_knowledge_triplets} entity-relation triplets.\n",
    "\n",
    "-Steps-\n",
    "1. Identify all entities. For each identified entity, extract the following information:\n",
    "- entity_name: Name of the entity, capitalized\n",
    "- entity_type: Type of the entity\n",
    "- entity_description: Comprehensive description of the entity's attributes and activities\n",
    "\n",
    "2. From the entities identified in step 1, identify all pairs of (source_entity, target_entity) that are *clearly related* to each other.\n",
    "For each pair of related entities, extract the following information:\n",
    "- source_entity: name of the source entity, as identified in step 1\n",
    "- target_entity: name of the target entity, as identified in step 1\n",
    "- relation: relationship between source_entity and target_entity\n",
    "- relationship_description: explanation as to why you think the source entity and the target entity are related to each other\n",
    "\n",
    "3. Output Formatting:\n",
    "- Return the result in valid JSON format with two keys: 'entities' (list of entity objects) and 'relationships' (list of relationship objects).\n",
    "- Exclude any text outside the JSON structure (e.g., no explanations or comments).\n",
    "- If no entities or relationships are identified, return empty lists: { \"entities\": [], \"relationships\": [] }.\n",
    "\n",
    "-An Output Example-\n",
    "{\n",
    "  \"entities\": [\n",
    "    {\n",
    "      \"entity_name\": \"Albert Einstein\",\n",
    "      \"entity_type\": \"Person\",\n",
    "      \"entity_description\": \"Albert Einstein was a theoretical physicist who developed the theory of relativity and made significant contributions to physics.\"\n",
    "    },\n",
    "    {\n",
    "      \"entity_name\": \"Theory of Relativity\",\n",
    "      \"entity_type\": \"Scientific Theory\",\n",
    "      \"entity_description\": \"A scientific theory developed by Albert Einstein, describing the laws of physics in relation to observers in different frames of reference.\"\n",
    "    },\n",
    "    {\n",
    "      \"entity_name\": \"Nobel Prize in Physics\",\n",
    "      \"entity_type\": \"Award\",\n",
    "      \"entity_description\": \"A prestigious international award in the field of physics, awarded annually by the Royal Swedish Academy of Sciences.\"\n",
    "    }\n",
    "  ],\n",
    "  \"relationships\": [\n",
    "    {\n",
    "      \"source_entity\": \"Albert Einstein\",\n",
    "      \"target_entity\": \"Theory of Relativity\",\n",
    "      \"relation\": \"developed\",\n",
    "      \"relationship_description\": \"Albert Einstein is the developer of the theory of relativity.\"\n",
    "    },\n",
    "    {\n",
    "      \"source_entity\": \"Albert Einstein\",\n",
    "      \"target_entity\": \"Nobel Prize in Physics\",\n",
    "      \"relation\": \"won\",\n",
    "      \"relationship_description\": \"Albert Einstein won the Nobel Prize in Physics in 1921.\"\n",
    "    }\n",
    "  ]\n",
    "}\n",
    "\n",
    "-Real Data-\n",
    "######################\n",
    "text: {text}\n",
    "######################\n",
    "output:\"\"\""
   ]
  },
  {
   "cell_type": "code",
   "execution_count": 43,
   "id": "5d63ad9f",
   "metadata": {},
   "outputs": [],
   "source": [
    "import json\n",
    "\n",
    "\n",
    "def parse_fn(response_str: str) -> Any:\n",
    "    json_pattern = r\"\\{.*\\}\"\n",
    "    match = re.search(json_pattern, response_str, re.DOTALL)\n",
    "    entities = []\n",
    "    relationships = []\n",
    "    if not match:\n",
    "        return entities, relationships\n",
    "    json_str = match.group(0)\n",
    "    try:\n",
    "        data = json.loads(json_str)\n",
    "        entities = [\n",
    "            (\n",
    "                entity[\"entity_name\"],\n",
    "                entity[\"entity_type\"],\n",
    "                entity[\"entity_description\"],\n",
    "            )\n",
    "            for entity in data.get(\"entities\", [])\n",
    "        ]\n",
    "        relationships = [\n",
    "            (\n",
    "                relation[\"source_entity\"],\n",
    "                relation[\"target_entity\"],\n",
    "                relation[\"relation\"],\n",
    "                relation[\"relationship_description\"],\n",
    "            )\n",
    "            for relation in data.get(\"relationships\", [])\n",
    "        ]\n",
    "        return entities, relationships\n",
    "    except json.JSONDecodeError as e:\n",
    "        print(\"Error parsing JSON:\", e)\n",
    "        return entities, relationships\n",
    "\n",
    "\n",
    "kg_extractor = GraphRAGExtractor(\n",
    "    llm=llm,\n",
    "    extract_prompt=KG_TRIPLET_EXTRACT_TMPL,\n",
    "    max_paths_per_chunk=2,\n",
    "    parse_fn=parse_fn,\n",
    ")"
   ]
  },
  {
   "cell_type": "code",
   "execution_count": 44,
   "id": "490dc268",
   "metadata": {},
   "outputs": [
    {
     "name": "stderr",
     "output_type": "stream",
     "text": [
      "Extracting paths from text: 100%|██████████| 1/1 [00:03<00:00,  3.17s/it]\n",
      "Generating embeddings: 100%|██████████| 1/1 [00:00<00:00,  1.11it/s]\n",
      "Generating embeddings: 100%|██████████| 1/1 [00:00<00:00,  1.37it/s]\n"
     ]
    }
   ],
   "source": [
    "from llama_index.core import PropertyGraphIndex\n",
    "\n",
    "index = PropertyGraphIndex(\n",
    "    nodes=nodes,\n",
    "    property_graph_store=GraphRAGStore(),\n",
    "    kg_extractors=[kg_extractor],\n",
    "    show_progress=True,\n",
    ")"
   ]
  },
  {
   "cell_type": "code",
   "execution_count": 45,
   "id": "e120370d",
   "metadata": {},
   "outputs": [
    {
     "data": {
      "text/plain": [
       "[(EntityNode(label='Person', embedding=None, properties={'entity_description': 'A physicist who introduced the idea of quantized energy levels in 1900 to explain blackbody radiation, contributing to the origins of quantum mechanics.', 'triplet_source_id': 'b4a4be00-267f-4e49-8b15-b4b39e8f3448'}, name='Max Planck'),\n",
       "  Relation(label='contributed to', source_id='Max Planck', target_id='Quantum Mechanics', properties={'relationship_description': \"Max Planck's work on quantized energy levels in 1900 was a foundational contribution to the development of quantum mechanics.\", 'triplet_source_id': 'b4a4be00-267f-4e49-8b15-b4b39e8f3448'}),\n",
       "  EntityNode(label='Scientific Theory', embedding=None, properties={'entity_description': 'A fundamental theory in physics describing nature at the smallest scales, such as atoms and subatomic particles. Developed in the early 20th century, it revolutionized our understanding of the physical world and laid the foundation for quantum chemistry, semiconductors, quantum computing, and quantum cryptography.', 'triplet_source_id': 'b4a4be00-267f-4e49-8b15-b4b39e8f3448'}, name='Quantum Mechanics')),\n",
       " (EntityNode(label='Person', embedding=None, properties={'entity_description': 'A physicist who explained the photoelectric effect in 1905 by proposing that light consists of discrete packets of energy called photons, further developing the concepts of quantum mechanics.  This work earned him the Nobel Prize in Physics in 1921.', 'triplet_source_id': 'b4a4be00-267f-4e49-8b15-b4b39e8f3448'}, name='Albert Einstein'),\n",
       "  Relation(label='contributed to', source_id='Albert Einstein', target_id='Quantum Mechanics', properties={'relationship_description': \"Albert Einstein's explanation of the photoelectric effect further developed the concepts of quantum mechanics.\", 'triplet_source_id': 'b4a4be00-267f-4e49-8b15-b4b39e8f3448'}),\n",
       "  EntityNode(label='Scientific Theory', embedding=None, properties={'entity_description': 'A fundamental theory in physics describing nature at the smallest scales, such as atoms and subatomic particles. Developed in the early 20th century, it revolutionized our understanding of the physical world and laid the foundation for quantum chemistry, semiconductors, quantum computing, and quantum cryptography.', 'triplet_source_id': 'b4a4be00-267f-4e49-8b15-b4b39e8f3448'}, name='Quantum Mechanics'))]"
      ]
     },
     "execution_count": 45,
     "metadata": {},
     "output_type": "execute_result"
    }
   ],
   "source": [
    "index.property_graph_store.graph.get_triplets()"
   ]
  },
  {
   "cell_type": "code",
   "execution_count": 46,
   "id": "e4fee454",
   "metadata": {},
   "outputs": [
    {
     "data": {
      "text/plain": [
       "EntityNode(label='Person', embedding=None, properties={'entity_description': 'A physicist who explained the photoelectric effect in 1905 by proposing that light consists of discrete packets of energy called photons, further developing the concepts of quantum mechanics.  This work earned him the Nobel Prize in Physics in 1921.', 'triplet_source_id': 'b4a4be00-267f-4e49-8b15-b4b39e8f3448'}, name='Albert Einstein')"
      ]
     },
     "execution_count": 46,
     "metadata": {},
     "output_type": "execute_result"
    }
   ],
   "source": [
    "list(index.property_graph_store.graph.nodes.values())[-1]"
   ]
  },
  {
   "cell_type": "code",
   "execution_count": 47,
   "id": "da700d8b",
   "metadata": {},
   "outputs": [
    {
     "data": {
      "text/plain": [
       "Relation(label='contributed to', source_id='Max Planck', target_id='Quantum Mechanics', properties={'relationship_description': \"Max Planck's work on quantized energy levels in 1900 was a foundational contribution to the development of quantum mechanics.\", 'triplet_source_id': 'b4a4be00-267f-4e49-8b15-b4b39e8f3448'})"
      ]
     },
     "execution_count": 47,
     "metadata": {},
     "output_type": "execute_result"
    }
   ],
   "source": [
    "list(index.property_graph_store.graph.relations.values())[0]"
   ]
  },
  {
   "cell_type": "code",
   "execution_count": 48,
   "id": "000cf864",
   "metadata": {},
   "outputs": [
    {
     "data": {
      "text/plain": [
       "\"Max Planck's work on quantized energy levels in 1900 was a foundational contribution to the development of quantum mechanics.\""
      ]
     },
     "execution_count": 48,
     "metadata": {},
     "output_type": "execute_result"
    }
   ],
   "source": [
    "list(index.property_graph_store.graph.relations.values())[0].properties[\n",
    "    \"relationship_description\"\n",
    "]"
   ]
  },
  {
   "cell_type": "code",
   "execution_count": 49,
   "id": "dc94fabc",
   "metadata": {},
   "outputs": [
    {
     "name": "stderr",
     "output_type": "stream",
     "text": [
      "c:\\Users\\Admin\\OneDrive\\Documents\\Repos\\note-to-knowledge\\venv\\Lib\\site-packages\\graspologic\\partition\\leiden.py:607: UserWarning: Leiden partitions do not contain all nodes from the input graph because input graph contained isolate nodes.\n",
      "  warnings.warn(\n",
      "C:\\Users\\Admin\\AppData\\Local\\Temp\\ipykernel_17724\\758028960.py:29: DeprecationWarning: Call to deprecated class Gemini. (Should use `llama-index-llms-google-genai` instead, using Google's latest unified SDK. See: https://docs.llamaindex.ai/en/stable/examples/llm/google_genai/)\n",
      "  response = Gemini().chat(messages)\n"
     ]
    }
   ],
   "source": [
    "index.property_graph_store.build_communities()"
   ]
  },
  {
   "cell_type": "code",
   "execution_count": 50,
   "id": "d8647c53",
   "metadata": {},
   "outputs": [],
   "source": [
    "query_engine = GraphRAGQueryEngine(\n",
    "    graph_store=index.property_graph_store, llm=llm\n",
    ")"
   ]
  },
  {
   "cell_type": "code",
   "execution_count": 51,
   "id": "32cc2ac6",
   "metadata": {},
   "outputs": [
    {
     "data": {
      "text/markdown": [
       "Planck's 1900 discovery of quantized energy and Einstein's explanation of the photoelectric effect were pivotal advancements in the development of quantum mechanics."
      ],
      "text/plain": [
       "<IPython.core.display.Markdown object>"
      ]
     },
     "metadata": {},
     "output_type": "display_data"
    }
   ],
   "source": [
    "response = query_engine.query(\n",
    "    \"What are the main news discussed in the document?\"\n",
    ")\n",
    "display(Markdown(f\"{response.response}\"))"
   ]
  },
  {
   "cell_type": "code",
   "execution_count": 52,
   "id": "500e0271",
   "metadata": {},
   "outputs": [
    {
     "data": {
      "text/markdown": [
       "Einstein explained the photoelectric effect, significantly advancing quantum mechanics."
      ],
      "text/plain": [
       "<IPython.core.display.Markdown object>"
      ]
     },
     "metadata": {},
     "output_type": "display_data"
    }
   ],
   "source": [
    "response = query_engine.query(\"What waws the contribution of Albert Einstein?\")\n",
    "display(Markdown(f\"{response.response}\"))"
   ]
  },
  {
   "cell_type": "code",
   "execution_count": 56,
   "id": "ad30f350",
   "metadata": {},
   "outputs": [],
   "source": [
    "chat_engine = index.as_chat_engine(chat_mode='react', llm=llm)"
   ]
  },
  {
   "cell_type": "code",
   "execution_count": null,
   "id": "8ef69a57",
   "metadata": {},
   "outputs": [
    {
     "data": {
      "text/plain": [
       "\"While Einstein's most significant contributions were in relativity, his work on the photoelectric effect was crucial to the development of quantum mechanics.  He proposed that light consists of discrete packets of energy (photons), a concept fundamental to quantum theory.  This work, for which he received the Nobel Prize, demonstrated the particle-like nature of light and helped lay the groundwork for future quantum advancements.  However, it's important to note that despite his pivotal role in the early development of quantum mechanics, he later became a vocal critic of some of its interpretations, particularly the probabilistic nature of quantum mechanics.\""
      ]
     },
     "execution_count": 57,
     "metadata": {},
     "output_type": "execute_result"
    }
   ],
   "source": [
    "chat_response = chat_engine.chat(\n",
    "    \"What are the main contributions of Albert Einstein in quantum mechanics?\"\n",
    ")\n"
   ]
  },
  {
   "cell_type": "code",
   "execution_count": null,
   "id": "b6dc1a43",
   "metadata": {},
   "outputs": [
    {
     "data": {
      "text/plain": [
       "AgentChatResponse(response='Your previous question was: \"What are the main contributions of Albert Einstein in quantum mechanics?\".  The conversation summary is as follows: You asked about Einstein\\'s contributions to quantum mechanics. I responded by highlighting his work on the photoelectric effect and its significance in establishing the particle nature of light, a cornerstone of quantum theory. I also mentioned his later criticisms of certain interpretations of quantum mechanics.  Then you asked me to summarize the conversation and repeat your previous question, which I am now doing.', sources=[], source_nodes=[], is_dummy_stream=False, metadata=None)"
      ]
     },
     "execution_count": 59,
     "metadata": {},
     "output_type": "execute_result"
    }
   ],
   "source": [
    "chat_response = chat_engine.chat(\n",
    "    \"What was my question before this one? Can you summarize the conversation so far?\"\n",
    ")\n",
    "chat_response"
   ]
  },
  {
   "cell_type": "code",
   "execution_count": 61,
   "id": "b8ab4af8",
   "metadata": {},
   "outputs": [
    {
     "data": {
      "text/plain": [
       "LabelledPropertyGraph(nodes={'b4a4be00-267f-4e49-8b15-b4b39e8f3448': ChunkNode(label='text_chunk', embedding=[0.002502633258700371, -0.0016684221336618066, 0.005724792834371328, -0.024482758715748787, 0.010054521262645721, 0.01855059154331684, -0.026719890534877777, -0.008338968269526958, -0.019065886735916138, -0.025689302012324333, -0.011594119481742382, 0.026016073301434517, -0.0011633394751697779, 0.01895277202129364, 0.0032048786524683237, -0.012065425515174866, 0.02729802578687668, 0.0032425830140709877, -0.008452082052826881, -0.012379629537463188, 6.465725164161995e-05, 0.016200346872210503, 0.018198683857917786, -0.016514550894498825, 0.004983271937817335, 0.031294696033000946, 0.02800184115767479, -0.01868884079158306, -0.009620919823646545, -0.011870618909597397, 0.002670732093974948, 0.040921900421381, -0.048161156475543976, 0.006268365774303675, -0.01589871197938919, 0.008238423615694046, 0.02105165459215641, 0.011537563055753708, -0.009262727573513985, -0.010915439575910568, 0.034084826707839966, 0.03524109721183777, -0.00329599785618484, 0.007610015571117401, -0.003449957584962249, 0.014956099912524223, 0.007553459145128727, -0.017582843080163002, 0.01024932786822319, 0.00721411919221282, 0.010550962761044502, 0.029459746554493904, -0.03493946045637131, -0.007258107420057058, -0.008961091749370098, -0.043259575963020325, -0.007647720165550709, 0.015270303934812546, 0.022496990859508514, -0.010041953064501286, -0.010104794055223465, 0.0120465736836195, -0.0046533579006791115, -0.006767949555069208, -0.01436539739370346, 0.004332870244979858, 0.0053100441582500935, 0.005039828829467297, -0.02384178340435028, -0.006805654149502516, 0.01896534115076065, 0.02410571463406086, -0.0047696135006845, 0.02175546996295452, 0.037025775760412216, -0.017922183498740196, -0.013359945267438889, 0.0014178445562720299, -0.023602988570928574, 0.010664076544344425, -0.012907491996884346, 0.004889010917395353, -0.005225209053605795, 0.03217446804046631, -0.006252655293792486, -0.00473819300532341, -0.007767117582261562, 0.028077250346541405, -0.010726917535066605, -0.0019370663212612271, 0.012222527526319027, -0.0014995376113802195, 0.02091340348124504, 0.0008051472250372171, 0.0005816697375848889, 0.019895384088158607, -0.0008043617126531899, 0.026946116238832474, -0.023439602926373482, -0.012869787402451038, 0.009690044447779655, -0.006409757304936647, -0.016904164105653763, -0.010620088316500187, -0.019204135984182358, -0.00843322928994894, 0.02747397869825363, -0.010657792910933495, -0.0029126692097634077, -0.028605112805962563, -0.01684132218360901, 0.009639772586524487, -0.0007265962776727974, -0.00217429012991488, 0.005363458767533302, 0.005668236408382654, 0.011330188252031803, -0.015559371560811996, 0.021504107862710953, -0.034763507544994354, 0.009671192616224289, 0.022245628759264946, 1.4949227079341654e-05, -0.014227147214114666, 0.009300432167947292, -0.00571222510188818, -0.03290342167019844, -0.0037830136716365814, 0.019468067213892937, -0.009803158231079578, -0.009909987449645996, -0.00010692748037399724, -0.024482758715748787, 0.026016073301434517, -0.012008869089186192, 0.03252637758851051, -0.031571198254823685, 0.014315124601125717, -0.011663245037198067, -0.01672820933163166, 0.004383143037557602, -0.004907863214612007, -0.030289245769381523, 0.008470933884382248, -0.009507806971669197, 0.03893613442778587, 0.007955639623105526, 0.04165085405111313, 0.014667033217847347, 0.0015977262519299984, 0.02106422185897827, 0.03179742395877838, 0.007628867868334055, 0.002477496862411499, 0.018500318750739098, 0.018035298213362694, -0.016803618520498276, 0.02255983278155327, -0.02385435253381729, -0.01143073383718729, -0.0027492830995470285, -0.0040972172282636166, -0.017922183498740196, 0.004122353624552488, 0.006073559168726206, 0.012530446983873844, 0.03679954633116722, -0.007905367761850357, 0.023339057341217995, 0.007408925332129002, -0.0250734630972147, 0.023188238963484764, -0.012027720920741558, 0.03290342167019844, -0.02283633127808571, -0.01192089170217514, 0.033783189952373505, 0.008678308688104153, -0.034361325204372406, -0.015685053542256355, 0.012027720920741558, -0.011581551283597946, 0.006196098867803812, 0.021830879151821136, -0.006522870622575283, -0.0007749050855636597, 0.010978280566632748, -0.012932628393173218, 0.008062468841671944, -0.01436539739370346, 0.0022182788234204054, 0.0012057570274919271, -0.007987060584127903, -0.015169759280979633, -0.6386631727218628, -0.016376301646232605, -0.019845111295580864, -0.014252283610403538, -0.016916731372475624, 0.0005306116654537618, 0.017243504524230957, 0.028102386742830276, -0.001142130815424025, -0.001869512489065528, -0.02873079478740692, 0.001113066915422678, 0.01728120818734169, -0.01783420704305172, -0.02689584344625473, -0.020109042525291443, -0.00571222510188818, -0.018299229443073273, 0.0064034732058644295, -0.016501983627676964, 0.009639772586524487, 0.0050869593396782875, -0.024445055052638054, 0.017457162961363792, 0.006510302424430847, 0.015245167538523674, -0.00016662619600538164, 0.01687902770936489, -0.00393697340041399, 0.015069213695824146, -0.013686717487871647, 0.02395489625632763, -0.003591349348425865, 0.043812576681375504, 0.03247610479593277, -0.0005125449388287961, 0.011933459900319576, 0.0015411695931106806, 0.008678308688104153, 0.053037598729133606, -0.002633027732372284, -0.05258514732122421, 0.02439478226006031, -0.01586100645363331, -0.013460489921271801, 0.003437389386817813, 0.024884939193725586, -0.01643914170563221, -0.016904164105653763, -0.020008496940135956, -0.0009449679055251181, -0.0051278057508170605, -0.004643931984901428, 0.03559300675988197, -0.016891594976186752, -0.010167635045945644, 0.012857219204306602, -0.019317248836159706, -0.028806203976273537, 0.018450045958161354, 0.020963676273822784, -0.016904164105653763, -0.009237591177225113, -0.017607979476451874, -0.011895755305886269, 0.03536677733063698, -0.023439602926373482, -0.015848439186811447, -0.00020521435362752527, -0.02646852657198906, 0.01289492379873991, 0.024884939193725586, -0.01100341696292162, -0.024771826341748238, 0.005577117204666138, 0.012279083952307701, 0.01632602885365486, -0.005256629548966885, 0.0007289528148248792, 0.008621752262115479, -0.013259399682283401, -0.022534696385264397, -0.026669617742300034, -0.010073373094201088, 0.04310876131057739, -0.009941407479345798, -0.010437849909067154, -0.008590331301093102, 0.01687902770936489, -0.002890674863010645, -0.00016819722077343613, -0.006007576361298561, -0.0074214935302734375, -0.03750336542725563, -0.010682928375899792, 0.02078772336244583, 0.0025576187763363123, -0.01770852506160736, 0.014063761569559574, -0.012461322359740734, -0.010758337564766407, -0.03612086921930313, 0.018600864335894585, -0.0004347795038484037, -0.012008869089186192, -0.010280747897922993, 0.012084277346730232, -0.018424909561872482, 0.05298732593655586, -0.03333073854446411, 0.024721553549170494, -0.014403101988136768, -0.03162147104740143, 0.03388373553752899, -0.012329356744885445, -0.034637827426195145, 0.026242300868034363, 0.025010621175169945, -0.004599943291395903, -0.024910075590014458, 0.014679601415991783, 0.0012041860027238727, 0.007031880784779787, -0.031822558492422104, -0.006767949555069208, -0.005124663934111595, -0.007566027343273163, 0.014453373849391937, -0.03828258812427521, 0.006491450127214193, 0.011349041014909744, 0.00802476517856121, 0.016514550894498825, -0.007446629926562309, 0.008408093824982643, -0.0018365210853517056, 0.0250734630972147, 0.005649384111166, -0.011776357889175415, -0.01910359039902687, -0.024734122678637505, -0.0015859436243772507, -0.0012583861825987697, 0.020938539877533913, -0.022107377648353577, -0.031847696751356125, -0.03340614587068558, 0.0016197204822674394, 0.0064725978299975395, 0.012920060195028782, -0.00891710352152586, 0.022057106718420982, -0.021918855607509613, 0.026543935760855675, 0.0006625772221013904, 0.00940097775310278, -0.030691426247358322, -0.015433690510690212, 0.008012196980416775, -0.012580719776451588, -0.00802476517856121, 0.033531829714775085, -0.027775615453720093, 0.0036227696109563112, 0.009822010062634945, -0.03717659041285515, -0.014189443551003933, 0.010167635045945644, -0.001141345244832337, -0.024985484778881073, -0.002276406390592456, -0.0008200719021260738, -0.010123645886778831, -0.008395525626838207, -0.016690505668520927, 0.030289245769381523, -0.0013471487909555435, -0.020159315317869186, -0.0206369049847126, -0.010023101232945919, 0.020310133695602417, -0.0398913137614727, -0.014202010817825794, 0.007528322748839855, 0.006541722919791937, 0.03521595895290375, 0.024181123822927475, 0.005743645131587982, -0.02661934494972229, 0.015911279246211052, 0.02744884230196476, 0.03933831304311752, 0.0030226404778659344, -0.019744565710425377, -0.016489414498209953, -0.021139631047844887, 0.021240176633000374, -0.00911819376051426, -0.010418998077511787, 0.04099731147289276, -0.0032127336598932743, 0.018336933106184006, 0.01156269945204258, 0.002529340563341975, -0.0007611587061546743, -0.014038625173270702, -0.005536270793527365, -0.032400693744421005, 0.011971164494752884, 0.011248495429754257, 0.02840402163565159, -0.007553459145128727, -0.015308008529245853, -0.03247610479593277, 0.012159686535596848, 0.029359202831983566, -0.01505664549767971, 0.0066548362374305725, -0.02146640233695507, -0.009218739345669746, -0.0032740035094320774, -0.01107882522046566, 0.024181123822927475, 0.005432583391666412, -0.010607520118355751, 0.011248495429754257, -0.007201550994068384, 0.0012041860027238727, 0.003980962093919516, -0.009017649106681347, -0.013045741245150566, -0.001990481046959758, -0.005473429802805185, 0.004694204777479172, -0.0012387484312057495, 0.038257453590631485, -0.010048236697912216, -0.014202010817825794, 0.0715881884098053, 0.01726864092051983, -0.013271967880427837, 0.0015191753627732396, -0.005376026965677738, -0.0056776623241603374, -0.006969040259718895, -0.022069673985242844, 0.0314706526696682, 0.0025686160661280155, -0.0057499292306602, 0.005514276679605246, -0.024030305445194244, 0.025274552404880524, -0.02454560063779354, -0.00407836539670825, 0.0012819514377042651, -0.03023897297680378, 0.035065144300460815, -0.009080489166080952, 0.01352333091199398, 0.012367061339318752, 0.006573143415153027, -0.007006744388490915, -0.004009240306913853, -0.02606634609401226, -0.006780517753213644, 0.00017271388787776232, 0.03325532749295235, -0.012574435211718082, -0.02273578569293022, 0.00020246506028342992, -0.025840120390057564, 0.00842694565653801, -0.017092686146497726, -0.0019009328680112958, 0.034487009048461914, -0.0032331570982933044, 0.007119857706129551, 0.007119857706129551, 0.0229997169226408, 0.01545882597565651, -0.05253487452864647, -0.011531279422342777, -0.0017485440475866199, 0.02257240004837513, 0.0048010339960455894, -0.006629699841141701, 0.0033179919701069593, -0.000419854826759547, -0.020963676273822784, -0.0011272061383351684, -0.001122493064031005, 0.001669993158429861, -0.015169759280979633, -0.01824895665049553, -0.023389330133795738, -0.03131983429193497, 0.02787616103887558, 0.005115237552672625, -0.004087791312485933, 0.01329710427671671, -0.00967747624963522, -0.004163200035691261, -0.01554680336266756, 0.004191478714346886, 0.01574789360165596, 0.0014068474993109703, -0.007264391519129276, -0.02384178340435028, 0.00934442039579153, -0.009652340784668922, -0.01518232747912407, -0.02802697755396366, 0.010915439575910568, 0.0017344049410894513, -0.0026990105397999287, 0.0032645773608237505, 0.014327692799270153, -0.022233059629797935, 0.017532572150230408, 0.0071701304987072945, -0.0005164725007489324, 0.012203674763441086, -0.007961924187839031, -0.0012811659835278988, 0.06334348022937775, -0.005275481380522251, -0.021667493507266045, 0.035316504538059235, 0.010928007774055004, -0.029233520850539207, -0.008175582624971867, 6.603189103771001e-05, 0.03639736771583557, -0.002527769422158599, 0.02521171234548092, 0.00505868112668395, 0.02173033356666565, 0.009702612645924091, 0.00822585541754961, 0.0029849358834326267, 0.0022465570364147425, -0.016313461586833, 0.02076258696615696, -0.022534696385264397, -0.008860547095537186, 0.0024162272457033396, 0.019003044813871384, 0.021780606359243393, -0.024294236674904823, -0.009036500938236713, 0.013975784182548523, 0.01855059154331684, -0.014641896821558475, -0.019028181210160255, 0.021240176633000374, 0.0033054237719625235, 0.02424396388232708, -0.00013874060823582113, -0.024784395471215248, 0.014792714267969131, -0.013246831484138966, 0.016137506812810898, -0.0026550220791250467, -0.017344048246741295, 0.009997964836657047, -0.017318913713097572, -0.015835870057344437, -0.0037076047156006098, -0.004703630693256855, -0.0011719801696017385, 0.0371263213455677, 0.002629885682836175, -0.004175768233835697, -0.008408093824982643, 0.02175546996295452, 0.00043360123527236283, -0.026543935760855675, -0.019191566854715347, -0.002766564255580306, 0.02369096502661705, 0.008873115293681622, -0.001567876897752285, -0.008043617010116577, -0.016087234020233154, -0.012279083952307701, -0.015421122312545776, 0.03647277504205704, -0.01436539739370346, 0.007151278201490641, -0.03214932978153229, -0.022773491218686104, 0.0002338854392291978, -0.04504425451159477, 0.007176414597779512, -0.012379629537463188, -0.02008390612900257, -0.031118743121623993, -0.012071709148585796, 0.05253487452864647, -0.006148968357592821, 0.012982900254428387, -0.00169827148783952, 0.0003957003937102854, 0.03514055162668228, -0.012568151578307152, -0.03426077961921692, -0.017230935394763947, -0.033104512840509415, 0.0021978553850203753, 0.017105253413319588, 0.010186486877501011, 0.014516214840114117, -0.00242408225312829, 0.012850934639573097, 0.004081507213413715, 0.008131594397127628, 0.025551052764058113, 0.0009622491197660565, -0.007584879640489817, 0.03471323475241661, -0.01218482293188572, 0.027348298579454422, 0.02078772336244583, -0.004050086718052626, 0.008194434456527233, 0.006130116060376167, 0.008584047667682171, 0.008087605237960815, -0.016753345727920532, -0.006246371194720268, 0.009583215229213238, 0.04833710938692093, -0.004995840135961771, 0.003377690678462386, 0.025437938049435616, -0.045245345681905746, 0.03785527125000954, 0.010494406335055828, 0.002589039271697402, 0.019317248836159706, 0.032124195247888565, 0.020699745044112206, -0.018085569143295288, -0.0068370746448636055, 0.0032771455589681864, 0.00110678281635046, 0.022685512900352478, 0.018726546317338943, -0.03413509950041771, -0.015207462944090366, -0.01785934343934059, 0.026267437264323235, -0.027624797075986862, -0.021856015548110008, 0.019581180065870285, 0.04413934797048569, -0.0048010339960455894, -0.041474901139736176, 0.0010714349336922169, -0.006925051566213369, -0.004625079687684774, 0.0005612465320155025, 0.01309601403772831, -0.005608537700027227, 0.0001547453721286729, 0.0029723679181188345, -0.0046533579006791115, -0.0024507895577698946, 0.0103184524923563, -0.03137010708451271, -0.008935955353081226, 0.02200683392584324, -0.018022729083895683, 0.023339057341217995, -0.02928379364311695, 0.00445855176076293, -0.030766835436224937, -0.01949320361018181, -0.0011554844677448273, -0.053992778062820435, 0.011726085096597672, -0.015810735523700714, 0.020687177777290344, 0.023238511756062508, 0.027096934616565704, 0.014817850664258003, -0.0017689673695713282, 0.010199055075645447, -0.007823674008250237, -0.009181034751236439, -0.0021994265262037516, 0.021705197170376778, -0.008772569708526134, 0.023376761004328728, -0.006755381356924772, -0.014755009673535824, -0.006899915169924498, 0.0016527118859812617, 0.009928839281201363, 0.017670821398496628, -0.0015474536921828985, 0.014930964447557926, -0.01142445020377636, -0.03483891487121582, 0.01491839624941349, 0.023251080885529518, -0.0014429809525609016, 0.01632602885365486, -0.017482299357652664, -0.0005270768306218088, -0.006887346971780062, 0.005492282100021839, 0.010959427803754807, -0.015044077299535275, 0.00793678779155016, -0.012354493141174316, 0.010676644742488861, -0.004631363786756992, 0.019266976043581963, -0.0018836517119780183, -0.014491078443825245, -0.02759966067969799, 0.007006744388490915, 0.004782181698828936, 0.005036686547100544, 0.0034908039961010218, -0.000305366818793118, -0.0010353014804422855, -0.020938539877533913, -0.009325568564236164, -0.006189814768731594, -0.0074969022534787655, 0.009872282855212688, -0.01741945743560791, -0.018739113584160805, -0.01701727695763111, 0.005834764335304499, -0.01143073383718729, 0.01674077846109867, 0.01450364664196968, 0.009212454780936241, 0.013749557547271252, -0.028378887102007866, -0.015571939758956432, 0.04054485633969307, 0.0070947217755019665, 0.040896765887737274, 0.006673688534647226, 0.022057106718420982, 0.002279548440128565, 0.003116901498287916, -0.00515922624617815, 0.0037673034239560366, -0.010173918679356575, -0.0013683574507012963, 0.03800608962774277, -0.012775526382029057, -0.00021444408048409969, -0.007025596685707569, 0.004276313353329897, -0.015810735523700714, -0.04097217321395874, -0.03390887379646301, 0.001987338997423649, -0.001414702506735921, 0.00010231260966975242, -0.021265313029289246, -0.008640604093670845, -0.010959427803754807, -0.0038175759837031364, -0.002420940203592181, 0.024570737034082413, -0.018148411065340042, -0.0029692258685827255, -0.011506143026053905, 0.006504018325358629, -0.0032394409645348787, 0.022597536444664, 0.006045280955731869, -0.005743645131587982, 0.02145383507013321, -0.015282872132956982, -0.022396445274353027, 0.016979573294520378, -0.022471854463219643, 0.015773029997944832, -0.026393117383122444, -0.015031509101390839, 0.011807777918875217, 0.005171794444322586, -0.023741237819194794, -0.018437478691339493, 0.021215040236711502, 0.027122071012854576, -0.006277791690081358, -0.008382957428693771, -0.010928007774055004, -0.006943903863430023, 0.016313461586833, -8.665151108289137e-05, -0.0076791406609117985, -0.021240176633000374, -0.00129766168538481, 0.01939265802502632, 0.016539687290787697, 0.03903668001294136, 0.012423617765307426, -0.024218827486038208, 0.0009292577160522342, -0.006010718643665314, -0.01518232747912407, 0.002098881406709552, 0.010664076544344425, -0.02468384988605976, -0.016200346872210503, -0.0068370746448636055, 0.020134178921580315, 0.005649384111166, -0.010199055075645447, 0.011053688824176788, -0.027122071012854576, 0.028680521994829178, 0.012197391130030155, 0.0017328339163213968, 0.015659917145967484, -0.0006971396505832672, -0.00822585541754961, -0.018902499228715897, -0.006017002742737532, -0.011015985161066055, 0.007616299670189619, 0.0007815819117240608, -0.011531279422342777, -0.02677016332745552, -0.004593659192323685, 0.02159208431839943, 0.018864795565605164, -0.005055538844317198, 0.014453373849391937, 0.04821142926812172, 0.013774693943560123, -0.004185194615274668, -0.0015553086996078491, 0.030037881806492805, 0.021265313029289246, -0.00029810084379278123, -0.001335366046987474, -0.028052113950252533, 0.004141205921769142, -0.011795210652053356, -0.019078454002738, -0.02411828190088272, -0.03026410937309265, -0.00028612182359211147, -0.013510762713849545, 5.6213020798168145e-06, 0.005803343839943409, 0.008954808115959167, -0.015395985916256905, -0.013837534934282303, 0.001828666077926755, 0.005234634969383478, -0.017092686146497726, 0.0214412659406662, -0.01770852506160736, 0.007151278201490641, 0.016250619664788246, -0.005633674096316099, -0.004024950321763754, 0.005297475960105658, 0.010802325792610645, 0.0035285085905343294, -0.034612689167261124, -0.0015529522206634283, -0.017897047102451324, 0.016615096479654312, 0.013158855028450489, 0.0038332862313836813, -0.013636444695293903, 0.004342296160757542, -0.026393117383122444, -0.0037201729137450457, 0.0016244335565716028, -0.0037955818697810173, 0.029308930039405823, 0.039916448295116425, -0.010550962761044502, 0.026016073301434517, 0.015773029997944832, 0.013636444695293903, -0.019895384088158607, 0.004483688157051802, 0.014202010817825794, 0.012819514609873295, 0.02356528490781784, 0.0026660191360861063, -0.0005800987710244954, 0.0001440428022760898, 0.006390905007719994, -0.01866370439529419, 0.0064034732058644295, 0.01067036110907793, 0.003962109796702862, 0.015018940903246403, 0.011625540442764759, 0.0063217803835868835, 0.0059227412566542625, 0.021541811525821686, 0.007339800707995892, -0.0426563061773777, -0.000534146442078054, -0.0035724970512092113, -0.030490335077047348, -0.04240494221448898, -0.010620088316500187, 0.002105165272951126, -0.014440806582570076, 0.01462932862341404, -0.007478049956262112, -0.02885647676885128, 0.031143879517912865, -0.032953694462776184, 0.03297882899641991, 0.004386284854263067, 0.003189168404787779, 0.024331942200660706, 0.005090101156383753, -0.018839659169316292, -0.007471765857189894, 0.005002124235033989, 0.002620459534227848, 0.012995468452572823, 0.0020941682159900665, -0.00550170848146081, -0.006117547862231731, 0.0009536084835417569, -0.0003762590349651873, -0.02327621728181839, -0.005617963615804911, -0.006208667065948248, -0.003179742256179452, -0.025551052764058113, 0.006673688534647226, 0.008194434456527233, 0.012505310587584972, 0.009878567419946194, -0.03149578720331192, -0.012455037795007229, -0.021390993148088455, -0.01811070553958416, 0.006199240684509277, -0.03762904554605484, -0.0016016537556424737, 0.021215040236711502, -0.0067365290597081184, 0.008439513854682446, 0.0038050077855587006, 0.021529244258999825, -0.0018726545386016369, 0.0066611203365027905, 0.20330241322517395, 0.001195545424707234, -0.006306069903075695, 0.01725607179105282, 0.0005392522434704006, -0.0066548362374305725, -0.0009308287408202887, -0.023313920944929123, -0.013121150434017181, 0.007333516608923674, 0.01939265802502632, 0.017520003020763397, -0.03695036470890045, 0.013900375925004482, 0.021127061918377876, -0.01080861035734415, -0.0038207180332392454, -0.016677936539053917, -0.015785599127411842, 0.02704666182398796, 0.005253487266600132, -0.0010093796299770474, -0.008822842501103878, -0.01895277202129364, 0.022597536444664, 0.0006040568114258349, -0.003033637534826994, -0.010199055075645447, -0.003487661946564913, 0.01868884079158306, -0.001519960816949606, -0.012957763858139515, 0.0031027623917907476, 0.01838720589876175, -0.028328614309430122, -0.008728581480681896, 0.017871910706162453, -0.018764249980449677, 0.0022591252345591784, 0.008464650250971317, -0.0028419732116162777, -0.028806203976273537, 0.005464003887027502, -0.014051193371415138, 0.02800184115767479, 0.037025775760412216, -0.005721651017665863, -0.023590421304106712, 0.007528322748839855, -0.0005329682026058435, -0.024558167904615402, -0.027624797075986862, 0.014327692799270153, 0.020448382943868637, -0.0028058397583663464, 0.001097356784157455, -0.009614636190235615, 0.013460489921271801, 0.01387523952871561, 0.010205338709056377, -0.03305424004793167, -0.006485166028141975, -0.008596615865826607, 0.024595873430371284, -0.003638479858636856, 0.018349500373005867, -0.007924219593405724, -0.0038615644443780184, 0.015031509101390839, 0.0014398389030247927, -0.021529244258999825, 0.008181866258382797, -0.024570737034082413, -0.013045741245150566, 0.003918121103197336, -0.005529986694455147, 0.036146003752946854, -0.0014806853141635656, 0.015471394173800945, 0.007446629926562309, -0.00344681553542614, -0.001586729078553617, -0.02022215537726879, -0.025475643575191498, -0.011147950775921345, -0.008659456856548786, 0.03604545816779137, 0.011405597440898418, 0.0015262449160218239, -0.01839977316558361, -0.010217906907200813, -0.006673688534647226, -0.00676166545599699, 0.010255611501634121, 0.011217075400054455, 0.000909619964659214, -0.001968486700206995, 0.010167635045945644, -0.013988352380692959, 0.007691708859056234, -0.01329710427671671, 0.04489343613386154, 0.008414377458393574, -0.00904906913638115, 0.009300432167947292, 0.03177228569984436, 0.004464835859835148, -0.0016495698364451528, 0.013850103132426739, -0.0172937773168087, 0.012228811159729958, 0.007308380212634802, 0.009576931595802307, -0.015433690510690212, -0.002362812403589487, 0.021491538733243942, -0.009457534179091454, -0.002694297581911087, 0.011223359033465385, -0.011047405190765858, -0.025727005675435066, -0.02048608660697937, 0.00911819376051426, -0.010211623273789883, 0.014176875352859497, -0.02565159648656845, -0.003635337809100747, 0.02354014851152897, -0.020021066069602966, -0.006416041404008865, 0.023439602926373482, 0.0032520091626793146, -0.002862396417185664, 0.014516214840114117, -0.0019087879918515682, -0.0034688098821789026, -0.011418165639042854, -0.008250991813838482, -0.02993733622133732, 0.0017799644265323877, -0.03008815459907055, -0.006522870622575283, 0.01038129348307848, 0.02677016332745552, -0.012147118337452412, -0.014679601415991783, 0.013862671330571175, -0.005096385255455971, -0.017633115872740746, -0.026141755282878876, -0.01323426328599453, -0.007911651395261288, -0.023753806948661804, -0.019983360543847084, 0.01067036110907793, 0.013561035506427288, -0.016954436898231506, 0.002331392141059041, -0.005178078543394804, 0.020448382943868637, -0.025965800508856773, 0.019455498084425926, 0.007691708859056234, -0.004533960483968258, 0.016690505668520927, 0.008420661091804504, -0.15383417904376984, -0.006309212185442448, 0.03974049538373947, -0.023087695240974426, 0.03172201290726662, 0.01450364664196968, 0.00871601328253746, 0.010305884294211864, -0.0041443477384746075, -0.011581551283597946, 0.00434858025982976, 0.006969040259718895, -0.02578984759747982, -0.03257665038108826, 0.0371263213455677, -0.007295812014490366, -0.01754513941705227, 0.011135382577776909, 0.014239715412259102, 0.020435813814401627, 0.02146640233695507, -0.010035669431090355, 0.030766835436224937, -0.007999628782272339, 0.020951109007000923, 0.019292112439870834, -0.00659199571236968, 0.0025450505781918764, -0.0058473325334489346, -0.015308008529245853, -0.005200072657316923, -0.03066628985106945, 0.023439602926373482, -0.01329710427671671, 0.011550131253898144, 0.021001381799578667, 0.019292112439870834, -0.005639958195388317, -0.0054200151935219765, -0.014641896821558475, 0.023477306589484215, 0.020837996155023575, -0.003358838614076376, 0.010733201168477535, 0.017645685002207756, 0.010406429879367352, 0.03765418380498886, 7.344513869611546e-05, 0.007741981185972691, -0.024344509467482567, 0.016112370416522026, 0.016552256420254707, 0.004581091459840536, 0.01205914095044136, 0.026996389031410217, -0.0055676912888884544, -0.020976245403289795, 0.02508603036403656, 0.0013667864259332418, -0.017042413353919983, -0.015923848375678062, -0.012423617765307426, -0.018198683857917786, 0.006120689678937197, 0.007691708859056234, 0.003902411088347435, -0.021629787981510162, 0.006962756160646677, -0.03134496882557869, -0.01219110656529665, -0.004826170392334461, -0.015622212551534176, 0.011864335276186466, 0.007741981185972691, -0.006224377080798149, 0.027675069868564606, -0.0025481926277279854, 0.011330188252031803, -0.021805742755532265, 0.00470048887655139, -0.005108953453600407, 0.02467128075659275, 0.025412801653146744, 0.00035858506453223526, -0.016401438042521477, -0.02537509799003601, -0.020674608647823334, 0.005548838991671801, -0.012524163350462914, -0.0030524898320436478, -0.013674149289727211, -0.02078772336244583, -0.005856758449226618, -0.0176959577947855, 0.001167267095297575, 0.0006559003959409893, -0.010846314951777458, -0.0069816079922020435, 0.0012615282321348786, -0.001446908456273377, 0.013397649861872196, -0.002681729383766651, 0.00027551743551157415, 0.01700470969080925, 0.008100173436105251, 0.007025596685707569, -0.027272889390587807, 0.011468438431620598, 0.04929228872060776, -0.011462153866887093, -0.02273578569293022, -0.004505682270973921, 0.010506974533200264, 0.03194824233651161, -0.01163182407617569, 0.015144622884690762, 0.025174006819725037, 0.016401438042521477, -0.017180662602186203, 0.0066548362374305725, 0.05615450069308281, -0.006010718643665314, -0.025425370782613754, 0.006315496284514666, 0.0009441823931410909, -0.03207392245531082, -0.10949373990297318, -0.04237980768084526, -0.002020330401137471, 0.010406429879367352, 0.0385088175535202, 0.02913297526538372, -0.0055551230907440186, -0.007075869478285313, -0.013221695087850094, 0.03405969217419624, -0.02885647676885128, -0.015509098768234253, -0.010481838136911392, -0.005115237552672625, -0.009463817812502384, -0.026292573660612106, 0.012882355600595474, -0.015948984771966934, -0.02452046424150467, 0.007044448982924223, -0.017670821398496628, -0.012561867013573647, -0.03835799917578697, 0.008998796343803406, -0.00638147909194231, 0.014516214840114117, -0.009237591177225113, 0.0176959577947855, 0.009287863969802856, -0.0022182788234204054, -0.014453373849391937, -0.0068433587439358234, -0.03139524161815643, -0.04501911997795105, 0.01253673154860735, 0.006818222347646952, 0.01232307218015194, -0.011041121557354927, 0.050222333520650864, -0.013535899110138416, 0.005624247714877129, 0.02634284645318985, 0.021491538733243942, 0.002585897222161293, 0.024206260219216347, -0.005005266517400742, -0.026543935760855675, 0.02522427961230278, -0.014164307154715061, -0.008351536467671394, -0.021114494651556015, 0.003148321993649006, -0.022346174344420433, -0.008188150823116302, 0.0117009487003088, 0.007289527915418148, -0.00404694490134716, 0.00849607028067112, -0.025035757571458817, -0.022258196026086807, 0.0030509186908602715, 0.016275756061077118, -0.013623876497149467, 0.005240919068455696, -0.0021224466618150473, -0.03777986392378807, -0.01643914170563221, -0.009199886582791805, 0.014227147214114666, -0.02983679249882698, -0.001370714046061039, 0.038106635212898254, -0.009658624418079853, 0.017168095335364342, -0.01826152391731739, -0.0010125216795131564, -0.03247610479593277, 0.0061458260752260685, 0.028881613165140152, 0.0001786052162060514, -0.02134072221815586, -0.008728581480681896, -0.0038050077855587006, 0.004477404057979584, 0.052032146602869034, 0.03579409420490265, 0.008942239917814732, 0.023351626470685005, 0.026443390175700188, -0.018915068358182907, -0.012178539298474789, 0.028931884095072746, 0.020272428169846535, -0.024859804660081863, 0.02312539890408516, 0.01525773573666811, -0.01674077846109867, -0.002683300292119384, 0.01511948648840189, 0.020548928529024124, -0.03245096653699875, -0.025186575949192047, -0.036598458886146545, 0.03235042095184326, -0.0017862485256046057, -0.013812398537993431, 0.0016464279033243656, 0.020284997299313545, 0.014641896821558475, -0.019593747332692146, 0.009093057364225388, 0.03131983429193497, -0.031244425103068352, 0.02424396388232708, 0.0010455130832269788, -0.02815265953540802, -0.04220385104417801, -0.02118990384042263, 0.017117822542786598, 0.005250345449894667, -0.006529154721647501, -0.01966915652155876, 0.00448997225612402, -0.009778021834790707, 0.02497291751205921, 0.025437938049435616, 0.008307548239827156, 0.0024492184165865183, 0.00043870703666470945, -0.03167174011468887, -0.022094810381531715, 0.006315496284514666, -0.011512426659464836, -0.020096473395824432, 0.009520375169813633, 0.03451214358210564, -0.0018553733825683594, -0.012090561911463737, -0.010136214084923267, 0.01616264320909977, 0.022220492362976074, 0.06258939206600189, -0.0007136353524401784, -0.031822558492422104, -0.009495238773524761, -0.0005985582247376442, -0.009394693188369274, -0.0025576187763363123, -0.003955825697630644, -0.006177246570587158, 0.021491538733243942, 0.016816187649965286, 0.03011329099535942, 0.023075126111507416, -0.002794842701405287, -0.04310876131057739, 0.0010408000089228153, 0.014176875352859497, -0.026845572516322136, 0.019153863191604614, -0.010035669431090355, -0.004090933129191399, 0.02704666182398796, 0.0031184726394712925, 0.001348719815723598, -0.009086773730814457, -0.00016014574794098735, -0.02284890040755272, -0.01964402012526989, -0.006189814768731594, 0.016916731372475624, -0.04112299159169197, 0.002878106664866209, -0.004163200035691261, 0.01868884079158306, 0.00892338715493679, -0.016816187649965286, -0.018173547461628914, -0.028781067579984665, -0.0011248495429754257, -0.006811938248574734, 0.00602957047522068, 0.019166430458426476, 0.008709728717803955, -0.016954436898231506, -0.007151278201490641, 0.04245521500706673, 0.01741945743560791, -0.03134496882557869, 0.018223820254206657, -0.01427742000669241, 0.010481838136911392, 0.019116157665848732, 0.026116618886590004, 0.0011287771631032228, 0.020649472251534462, 0.029484882950782776, -0.01811070553958416, -0.000753696309402585, -0.010010533034801483, -0.000353086506947875, 0.01303317304700613, 0.005306901875883341, 0.020837996155023575, 0.014905828051269054, -0.02702152542769909, -0.003980962093919516, 0.007924219593405724, -0.03777986392378807, -0.02634284645318985, -0.008483502082526684, 0.02534996159374714, 0.004989556036889553, -0.003641621908172965, 0.009922555647790432, -0.013435354456305504, -0.025563620030879974, 0.02007133886218071, -0.020863130688667297, -0.01601182483136654, -0.010111077688634396, 0.015370849519968033, 0.009922555647790432, -0.0010887160897254944, -0.007013028487563133, -0.007660288363695145, 0.04630107060074806, 0.011908323504030704, 0.02176803909242153, -0.019995929673314095, 0.014088897965848446, 0.00019618099031504244, 0.012756673619151115, 8.596419502282515e-05, -0.013473058119416237, -0.0033242760691791773, -0.00616153609007597, -0.02313796617090702, 0.011946028098464012, -0.004546528682112694, -0.020259860903024673, 0.05258514732122421, 0.03383346274495125, 0.00871601328253746, 0.02719748020172119, -0.013598740100860596, 0.017230935394763947, 0.015333144925534725, -0.021529244258999825, -0.0058504743501544, -0.025010621175169945, 0.028957020491361618, -0.0019857678562402725, 0.007358652539551258, -0.011179370805621147, -0.0008640604210086167, 0.009382124990224838, -0.0037892977707087994, 0.01938008889555931, 0.004015524405986071, -0.01602439396083355, 0.03333073854446411, -0.012806946411728859, 0.024570737034082413, 0.01378726214170456, -0.010293316096067429, -0.020699745044112206, 0.020297564566135406, -0.005872468929737806, 0.006287217605859041, -0.04004213213920593, 0.014616760425269604, -0.016212916001677513, -0.04054485633969307, -0.021931424736976624, -0.0024539316073060036, -0.008345252834260464, -0.005536270793527365, -0.03544218838214874, 0.006566859316080809, 0.013271967880427837, -0.013598740100860596, 0.02022215537726879, 0.0014908970333635807, -0.04004213213920593, -0.02910783886909485, 0.012373344972729683, -0.007201550994068384, -0.0025497637689113617, -0.016338596120476723], properties={'_node_content': '{\"id_\": \"b4a4be00-267f-4e49-8b15-b4b39e8f3448\", \"embedding\": null, \"metadata\": {}, \"excluded_embed_metadata_keys\": [], \"excluded_llm_metadata_keys\": [], \"relationships\": {\"1\": {\"node_id\": \"21a9e191-b133-42b9-82ce-fd11bab34d70\", \"node_type\": \"4\", \"metadata\": {}, \"hash\": \"982f28a86b02e5be4be239174ac6726f7ca1d358f4b5ccbacdaa0e1bc0b81c45\", \"class_name\": \"RelatedNodeInfo\"}}, \"metadata_template\": \"{key}: {value}\", \"metadata_separator\": \"\\\\n\", \"text\": \"\", \"mimetype\": \"text/plain\", \"start_char_idx\": 1, \"end_char_idx\": 2926, \"metadata_seperator\": \"\\\\n\", \"text_template\": \"{metadata_str}\\\\n\\\\n{content}\", \"class_name\": \"TextNode\"}', '_node_type': 'TextNode', 'document_id': '21a9e191-b133-42b9-82ce-fd11bab34d70', 'doc_id': '21a9e191-b133-42b9-82ce-fd11bab34d70', 'ref_doc_id': '21a9e191-b133-42b9-82ce-fd11bab34d70'}, text='The History and Impact of Quantum Mechanics\\n\\nQuantum mechanics is a fundamental theory in physics that describes nature at the smallest scales, such as atoms and subatomic particles. It was developed in the early 20th century, revolutionizing our understanding of the physical world.\\n\\nThe origins of quantum mechanics trace back to Max Planck’s work in 1900, where he introduced the idea of quantized energy levels to explain blackbody radiation. This concept was further developed by Albert Einstein in 1905 when he explained the photoelectric effect by proposing that light consists of discrete packets of energy called photons. Einstein’s work earned him the Nobel Prize in Physics in 1921.\\n\\nBuilding on these ideas, Niels Bohr proposed the Bohr model of the atom in 1913, which described electrons orbiting the nucleus in fixed energy levels. This model successfully explained the spectral lines of hydrogen but had limitations with more complex atoms.\\n\\nIn the 1920s, Werner Heisenberg formulated matrix mechanics, and Erwin Schrödinger developed wave mechanics, two equivalent formulations of quantum mechanics. Schrödinger’s wave equation describes how the quantum state of a physical system changes over time.\\n\\nWerner Heisenberg is also famous for the uncertainty principle, which states that certain pairs of physical properties, like position and momentum, cannot be simultaneously known to arbitrary precision.\\n\\nQuantum mechanics has had profound implications beyond physics. It laid the foundation for quantum chemistry, explaining chemical bonding and reactions. It also enabled the development of semiconductors, which are the basis for modern electronics, including computers and smartphones.\\n\\nRichard Feynman, a prominent physicist of the 20th century, contributed significantly to quantum electrodynamics (QED), a quantum theory of the interaction between light and matter. Feynman introduced Feynman diagrams, a pictorial representation of particle interactions.\\n\\nThe theory of quantum mechanics also paved the way for emerging fields such as quantum computing and quantum cryptography. Quantum computers use quantum bits, or qubits, which can represent both 0 and 1 simultaneously, promising exponential speedups for certain computational problems.\\n\\nDespite its successes, quantum mechanics challenges our classical intuitions about reality. Concepts like superposition and entanglement defy everyday experience but have been experimentally confirmed.\\n\\nThe Copenhagen interpretation, primarily developed by Niels Bohr and Werner Heisenberg, is one of the earliest and most widely taught interpretations of quantum mechanics. It emphasizes the probabilistic nature of quantum measurements and the role of the observer.\\n\\nToday, research in quantum mechanics continues to expand, with scientists exploring quantum gravity, quantum field theory, and applications in materials science and information technology.', id_='b4a4be00-267f-4e49-8b15-b4b39e8f3448'), 'Quantum Mechanics': EntityNode(label='Scientific Theory', embedding=None, properties={'entity_description': 'A fundamental theory in physics describing nature at the smallest scales, such as atoms and subatomic particles. Developed in the early 20th century, it revolutionized our understanding of the physical world and laid the foundation for quantum chemistry, semiconductors, quantum computing, and quantum cryptography.', 'triplet_source_id': 'b4a4be00-267f-4e49-8b15-b4b39e8f3448'}, name='Quantum Mechanics'), 'Max Planck': EntityNode(label='Person', embedding=None, properties={'entity_description': 'A physicist who introduced the idea of quantized energy levels in 1900 to explain blackbody radiation, contributing to the origins of quantum mechanics.', 'triplet_source_id': 'b4a4be00-267f-4e49-8b15-b4b39e8f3448'}, name='Max Planck'), 'Albert Einstein': EntityNode(label='Person', embedding=None, properties={'entity_description': 'A physicist who explained the photoelectric effect in 1905 by proposing that light consists of discrete packets of energy called photons, further developing the concepts of quantum mechanics.  This work earned him the Nobel Prize in Physics in 1921.', 'triplet_source_id': 'b4a4be00-267f-4e49-8b15-b4b39e8f3448'}, name='Albert Einstein')}, relations={'Max Planck_contributed to_Quantum Mechanics': Relation(label='contributed to', source_id='Max Planck', target_id='Quantum Mechanics', properties={'relationship_description': \"Max Planck's work on quantized energy levels in 1900 was a foundational contribution to the development of quantum mechanics.\", 'triplet_source_id': 'b4a4be00-267f-4e49-8b15-b4b39e8f3448'}), 'Albert Einstein_contributed to_Quantum Mechanics': Relation(label='contributed to', source_id='Albert Einstein', target_id='Quantum Mechanics', properties={'relationship_description': \"Albert Einstein's explanation of the photoelectric effect further developed the concepts of quantum mechanics.\", 'triplet_source_id': 'b4a4be00-267f-4e49-8b15-b4b39e8f3448'})}, triplets={('Max Planck', 'contributed to', 'Quantum Mechanics'), ('Albert Einstein', 'contributed to', 'Quantum Mechanics')})"
      ]
     },
     "execution_count": 61,
     "metadata": {},
     "output_type": "execute_result"
    }
   ],
   "source": [
    "index.property_graph_store.graph"
   ]
  },
  {
   "cell_type": "code",
   "execution_count": 53,
   "id": "44bb7a7a",
   "metadata": {},
   "outputs": [],
   "source": [
    "# pip install pyvis gradio"
   ]
  },
  {
   "cell_type": "code",
   "execution_count": 55,
   "id": "9a5fee62",
   "metadata": {},
   "outputs": [],
   "source": [
    "# from pyvis.network import Network\n",
    "# import webbrowser\n",
    "\n",
    "# # --- Get triplets from LlamaIndex GraphRAG\n",
    "# triplets = index.property_graph_store.graph.get_triplets()\n",
    "\n",
    "# # --- Colors for different entity types\n",
    "# type_colors = {\n",
    "#     \"Person\": \"#FF6961\",              # red\n",
    "#     \"Scientific Theory\": \"#779ECB\",   # blue\n",
    "#     \"Concept\": \"#77DD77\",             # green\n",
    "#     \"Location\": \"#FFD700\",            # yellow\n",
    "#     \"Organization\": \"#FFB347\",        # orange\n",
    "#     \"Unknown\": \"#D3D3D3\"              # grey fallback\n",
    "# }\n",
    "\n",
    "# def build_and_open_graph(triplets):\n",
    "#     net = Network(height=\"750px\", width=\"100%\", directed=True, notebook=False)\n",
    "    \n",
    "#     for i in range(0, len(triplets), 3):\n",
    "#         print(triplets[i])\n",
    "#         try:\n",
    "#             node1 = triplets[i][0]\n",
    "#             edge = triplets[i][1]\n",
    "#             node2 = triplets[i][2]\n",
    "\n",
    "#             # Get node info\n",
    "#             source = node1.name\n",
    "#             source_type = node1.label\n",
    "#             source_desc = node1.properties.get(\"entity_description\", \"\")\n",
    "\n",
    "#             target = node2.name or node2.properties.get(\"id\") or \"Unknown\"\n",
    "#             target_type = node2.label or \"Unknown\"\n",
    "#             target_desc = node2.properties.get(\"entity_description\", \"\")\n",
    "\n",
    "#             relation = edge.label or \"related_to\"\n",
    "#             relation_desc = edge.properties.get(\"relation_description\", \"\")\n",
    "\n",
    "#             # Add source node\n",
    "#             net.add_node(\n",
    "#                 source,\n",
    "#                 label=source,\n",
    "#                 title=f\"{source_type}: {source_desc}\",\n",
    "#                 color=type_colors.get(source_type, type_colors[\"Unknown\"])\n",
    "#             )\n",
    "\n",
    "#             # Add target node\n",
    "#             net.add_node(\n",
    "#                 target,\n",
    "#                 label=target,\n",
    "#                 title=f\"{target_type}: {target_desc}\",\n",
    "#                 color=type_colors.get(target_type, type_colors[\"Unknown\"])\n",
    "#             )\n",
    "\n",
    "#             # Add edge with tooltip\n",
    "#             net.add_edge(\n",
    "#                 source,\n",
    "#                 target,\n",
    "#                 label=relation,\n",
    "#                 title=relation_desc\n",
    "#             )\n",
    "#         except Exception as e:\n",
    "#             print(f\"Skipping triplet group {i}-{i+2}: {e}\")\n",
    "#             continue\n",
    "\n",
    "#     net.repulsion()\n",
    "#     output_path = \"graph.html\"\n",
    "#     net.save_graph(output_path)\n",
    "#     webbrowser.open(f\"file://{os.path.abspath(output_path)}\")\n",
    "\n",
    "# # --- Run it\n",
    "# build_and_open_graph(triplets)\n"
   ]
  },
  {
   "cell_type": "code",
   "execution_count": null,
   "id": "07ba455f",
   "metadata": {},
   "outputs": [],
   "source": []
  },
  {
   "cell_type": "code",
   "execution_count": null,
   "id": "f0dabfad",
   "metadata": {},
   "outputs": [],
   "source": []
  }
 ],
 "metadata": {
  "kernelspec": {
   "display_name": "venv",
   "language": "python",
   "name": "python3"
  },
  "language_info": {
   "codemirror_mode": {
    "name": "ipython",
    "version": 3
   },
   "file_extension": ".py",
   "mimetype": "text/x-python",
   "name": "python",
   "nbconvert_exporter": "python",
   "pygments_lexer": "ipython3",
   "version": "3.11.5"
  }
 },
 "nbformat": 4,
 "nbformat_minor": 5
}
